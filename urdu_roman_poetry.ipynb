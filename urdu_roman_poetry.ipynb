{
  "cells": [
    {
      "cell_type": "markdown",
      "metadata": {
        "id": "view-in-github",
        "colab_type": "text"
      },
      "source": [
        "<a href=\"https://colab.research.google.com/github/Hussnain6/GenerativeAi/blob/main/urdu_roman_poetry.ipynb\" target=\"_parent\"><img src=\"https://colab.research.google.com/assets/colab-badge.svg\" alt=\"Open In Colab\"/></a>"
      ]
    },
    {
      "cell_type": "code",
      "source": [
        "import torch\n",
        "import torch.nn as nn\n",
        "import torch.optim as optim\n",
        "import numpy as np\n",
        "import pandas as pd\n",
        "from torch.utils.data import Dataset, DataLoader\n",
        "\n",
        "# Hyperparameters\n",
        "EMBEDDING_DIM = 256\n",
        "HIDDEN_DIM = 512\n",
        "NUM_LAYERS = 3\n",
        "BATCH_SIZE = 32\n",
        "LEARNING_RATE = 0.001\n",
        "EPOCHS = 15\n",
        "SEQ_LENGTH = 10\n",
        "\n",
        "# Load dataset\n",
        "df = pd.read_csv(\"Roman-Urdu-Poetry.csv\")\n",
        "poems = df[\"Poetry\"].tolist()\n",
        "poets = df[\"Poet\"].tolist()\n",
        "\n",
        "# Tokenize and build vocabulary\n",
        "words = set()\n",
        "for poem in poems:\n",
        "    words.update(poem.split())\n",
        "word_to_idx = {word: i for i, word in enumerate(words)}\n",
        "idx_to_word = {i: word for word, i in word_to_idx.items()}\n",
        "poet_to_idx = {poet: i for i, poet in enumerate(set(poets))}\n",
        "\n",
        "# Poetry Dataset\n",
        "class PoetryDataset(Dataset):\n",
        "    def __init__(self, poems, poets, word_to_idx, poet_to_idx, seq_length=SEQ_LENGTH):\n",
        "        self.poems = poems\n",
        "        self.poets = poets\n",
        "        self.word_to_idx = word_to_idx\n",
        "        self.poet_to_idx = poet_to_idx\n",
        "        self.seq_length = seq_length\n",
        "\n",
        "        self.data = []\n",
        "        for poem, poet in zip(poems, poets):\n",
        "            encoded_poem = [word_to_idx[word] for word in poem.split() if word in word_to_idx]\n",
        "            poet_idx = poet_to_idx[poet]\n",
        "            for i in range(len(encoded_poem) - seq_length):\n",
        "                self.data.append((encoded_poem[i:i+seq_length], encoded_poem[i+1:i+seq_length+1], poet_idx))\n",
        "\n",
        "    def __len__(self):\n",
        "        return len(self.data)\n",
        "\n",
        "    def __getitem__(self, idx):\n",
        "        x, y, poet = self.data[idx]\n",
        "        return torch.tensor(x), torch.tensor(y), torch.tensor(poet)\n",
        "\n",
        "# Define LSTM Model\n",
        "class PoetryLSTM(nn.Module):\n",
        "    def __init__(self, vocab_size, poet_count, embedding_dim, hidden_dim, num_layers):\n",
        "        super(PoetryLSTM, self).__init__()\n",
        "        self.embedding = nn.Embedding(vocab_size, embedding_dim)\n",
        "        self.poet_embedding = nn.Embedding(poet_count, embedding_dim)\n",
        "        self.lstm = nn.LSTM(embedding_dim * 2, hidden_dim, num_layers, batch_first=True)\n",
        "        self.fc = nn.Linear(hidden_dim, vocab_size)\n",
        "\n",
        "    def forward(self, x, poet):\n",
        "        word_embeds = self.embedding(x)  # (batch, seq_len, embed_dim)\n",
        "        poet_embeds = self.poet_embedding(poet).unsqueeze(1).repeat(1, x.size(1), 1)  # (batch, seq_len, embed_dim)\n",
        "        combined = torch.cat((word_embeds, poet_embeds), dim=2)\n",
        "        lstm_out, _ = self.lstm(combined)\n",
        "        out = self.fc(lstm_out)\n",
        "        return out\n",
        "\n",
        "# Create Dataset and Dataloader\n",
        "dataset = PoetryDataset(poems, poets, word_to_idx, poet_to_idx)\n",
        "dataloader = DataLoader(dataset, batch_size=BATCH_SIZE, shuffle=True)\n",
        "\n",
        "# Model Initialization\n",
        "vocab_size = len(word_to_idx)\n",
        "poet_count = len(poet_to_idx)\n",
        "model = PoetryLSTM(vocab_size, poet_count, EMBEDDING_DIM, HIDDEN_DIM, NUM_LAYERS).to(torch.device(\"cuda\" if torch.cuda.is_available() else \"cpu\"))\n",
        "optimizer = optim.Adam(model.parameters(), lr=LEARNING_RATE)\n",
        "criterion = nn.CrossEntropyLoss()\n",
        "\n",
        "# Training Function\n",
        "def train_model(model, dataloader, optimizer, criterion, epochs):\n",
        "    model.train()\n",
        "    for epoch in range(epochs):\n",
        "        total_loss = 0\n",
        "        for x, y, poet in dataloader:\n",
        "            x, y, poet = x.to(torch.device(\"cuda\" if torch.cuda.is_available() else \"cpu\")), y.to(torch.device(\"cuda\" if torch.cuda.is_available() else \"cpu\")), poet.to(torch.device(\"cuda\" if torch.cuda.is_available() else \"cpu\"))\n",
        "            optimizer.zero_grad()\n",
        "            output = model(x, poet)\n",
        "            loss = criterion(output.view(-1, vocab_size), y.view(-1))\n",
        "            loss.backward()\n",
        "            optimizer.step()\n",
        "            total_loss += loss.item()\n",
        "        print(f\"Epoch {epoch+1}/{epochs}, Loss: {total_loss / len(dataloader)}\")\n",
        "\n",
        "# Train Model\n",
        "train_model(model, dataloader, optimizer, criterion, EPOCHS)"
      ],
      "metadata": {
        "colab": {
          "base_uri": "https://localhost:8080/"
        },
        "id": "HFsFPHSDfinz",
        "outputId": "722c946e-1ff4-4357-b8c3-f4f5b9974330"
      },
      "execution_count": null,
      "outputs": [
        {
          "output_type": "stream",
          "name": "stdout",
          "text": [
            "Epoch 1/15, Loss: 6.032242679362516\n",
            "Epoch 2/15, Loss: 3.494838935298606\n",
            "Epoch 3/15, Loss: 2.0164596887498525\n",
            "Epoch 4/15, Loss: 1.254115215183949\n",
            "Epoch 5/15, Loss: 0.8896252694769758\n",
            "Epoch 6/15, Loss: 0.7300534909719566\n",
            "Epoch 7/15, Loss: 0.6459786796840393\n",
            "Epoch 8/15, Loss: 0.5939165720169842\n",
            "Epoch 9/15, Loss: 0.5573336192314287\n",
            "Epoch 10/15, Loss: 0.5317638810006151\n",
            "Epoch 11/15, Loss: 0.5119590276498289\n",
            "Epoch 12/15, Loss: 0.49578216495543626\n",
            "Epoch 13/15, Loss: 0.4844878611893032\n",
            "Epoch 14/15, Loss: 0.4740937258078355\n",
            "Epoch 15/15, Loss: 0.4667681297117411\n"
          ]
        }
      ]
    },
    {
      "cell_type": "code",
      "source": [
        "def generate_poetry(model, poet_to_idx, word_to_idx, idx_to_word, max_length=50):\n",
        "    poet_name = input(\"Enter poet's name: \")  # User input for poet's name\n",
        "    start_words = input(\"Enter starting words for the poem: \")  # User input for start words\n",
        "\n",
        "    model.eval()\n",
        "    device = torch.device(\"cuda\" if torch.cuda.is_available() else \"cpu\")\n",
        "\n",
        "    # Convert poet name to index\n",
        "    if poet_name not in poet_to_idx:\n",
        "        print(\"Poet not found in dataset.\")\n",
        "        return \"\"\n",
        "    poet_idx = torch.tensor([poet_to_idx[poet_name]], device=device)\n",
        "\n",
        "    # Convert start words to indices\n",
        "    input_indices = [word_to_idx[word] for word in start_words.split() if word in word_to_idx]\n",
        "    if not input_indices:\n",
        "        print(\"No valid words found in vocabulary.\")\n",
        "        return \"\"\n",
        "\n",
        "    input_tensor = torch.tensor(input_indices, dtype=torch.long, device=device).unsqueeze(0)  # Add batch dim\n",
        "\n",
        "    generated_words = start_words.split()\n",
        "\n",
        "    for _ in range(max_length):\n",
        "        with torch.no_grad():\n",
        "            output = model(input_tensor, poet_idx)  # Forward pass\n",
        "            predictions = output[:, -1, :]  # Get last token's predictions\n",
        "            next_word_idx = torch.argmax(predictions, dim=1).item()  # Choose the most probable word\n",
        "\n",
        "            if next_word_idx in idx_to_word:\n",
        "                next_word = idx_to_word[next_word_idx]\n",
        "                generated_words.append(next_word)\n",
        "                input_tensor = torch.cat((input_tensor, torch.tensor([[next_word_idx]], device=device)), dim=1)\n",
        "            else:\n",
        "                break  # Stop if an invalid word is predicted\n",
        "\n",
        "    return \" \".join(generated_words)\n",
        "\n",
        "generated_poem = generate_poetry(model, poet_to_idx, word_to_idx, idx_to_word)\n",
        "print(\"Generated Poem:\\n\", generated_poem)\n"
      ],
      "metadata": {
        "colab": {
          "base_uri": "https://localhost:8080/"
        },
        "id": "-GguP3a0tgUj",
        "outputId": "ec1a6ae5-cbf5-4b8c-bc4a-8ce55b63615f"
      },
      "execution_count": null,
      "outputs": [
        {
          "output_type": "stream",
          "name": "stdout",
          "text": [
            "Enter poet's name: ahmad-faraz\n",
            "Enter starting words for the poem: pyaar\n",
            "Generated Poem:\n",
            " pyaar kiran kā dukh nahīñ par dil ye chāhtā hai ki āġhāz tū kare tere baġhair bhī to ġhanīmat hai zindagī ḳhud ko gañvā ke kaun tirī justujū kare ab to ye aarzū hai ki vo zaḳhm khā.iye tā-zindagī ye dil na koī aarzū kare tujh ko bhulā ke dil hai\n"
          ]
        }
      ]
    },
    {
      "cell_type": "code",
      "source": [
        "torch.save(model.state_dict(), \"poetry_lstm.pth\")\n",
        "print(\"Model saved as poetry_lstm.pth\")"
      ],
      "metadata": {
        "colab": {
          "base_uri": "https://localhost:8080/"
        },
        "id": "07I9fWnuDs_r",
        "outputId": "6a7e481f-db84-43c3-8a77-3185b43f6145"
      },
      "execution_count": null,
      "outputs": [
        {
          "output_type": "stream",
          "name": "stdout",
          "text": [
            "Model saved as poetry_lstm.pth\n"
          ]
        }
      ]
    },
    {
      "cell_type": "code",
      "source": [
        "pip install gradio\n"
      ],
      "metadata": {
        "colab": {
          "base_uri": "https://localhost:8080/"
        },
        "id": "XFThY6I6uI99",
        "outputId": "a3cef9de-5e5a-45e9-91f4-c1a2f85b404b"
      },
      "execution_count": null,
      "outputs": [
        {
          "output_type": "stream",
          "name": "stdout",
          "text": [
            "Collecting gradio\n",
            "  Downloading gradio-5.16.0-py3-none-any.whl.metadata (16 kB)\n",
            "Collecting aiofiles<24.0,>=22.0 (from gradio)\n",
            "  Downloading aiofiles-23.2.1-py3-none-any.whl.metadata (9.7 kB)\n",
            "Requirement already satisfied: anyio<5.0,>=3.0 in /usr/local/lib/python3.11/dist-packages (from gradio) (3.7.1)\n",
            "Collecting fastapi<1.0,>=0.115.2 (from gradio)\n",
            "  Downloading fastapi-0.115.8-py3-none-any.whl.metadata (27 kB)\n",
            "Collecting ffmpy (from gradio)\n",
            "  Downloading ffmpy-0.5.0-py3-none-any.whl.metadata (3.0 kB)\n",
            "Collecting gradio-client==1.7.0 (from gradio)\n",
            "  Downloading gradio_client-1.7.0-py3-none-any.whl.metadata (7.1 kB)\n",
            "Requirement already satisfied: httpx>=0.24.1 in /usr/local/lib/python3.11/dist-packages (from gradio) (0.28.1)\n",
            "Requirement already satisfied: huggingface-hub>=0.28.1 in /usr/local/lib/python3.11/dist-packages (from gradio) (0.28.1)\n",
            "Requirement already satisfied: jinja2<4.0 in /usr/local/lib/python3.11/dist-packages (from gradio) (3.1.5)\n",
            "Collecting markupsafe~=2.0 (from gradio)\n",
            "  Downloading MarkupSafe-2.1.5-cp311-cp311-manylinux_2_17_x86_64.manylinux2014_x86_64.whl.metadata (3.0 kB)\n",
            "Requirement already satisfied: numpy<3.0,>=1.0 in /usr/local/lib/python3.11/dist-packages (from gradio) (1.26.4)\n",
            "Requirement already satisfied: orjson~=3.0 in /usr/local/lib/python3.11/dist-packages (from gradio) (3.10.15)\n",
            "Requirement already satisfied: packaging in /usr/local/lib/python3.11/dist-packages (from gradio) (24.2)\n",
            "Requirement already satisfied: pandas<3.0,>=1.0 in /usr/local/lib/python3.11/dist-packages (from gradio) (2.2.2)\n",
            "Requirement already satisfied: pillow<12.0,>=8.0 in /usr/local/lib/python3.11/dist-packages (from gradio) (11.1.0)\n",
            "Requirement already satisfied: pydantic>=2.0 in /usr/local/lib/python3.11/dist-packages (from gradio) (2.10.6)\n",
            "Collecting pydub (from gradio)\n",
            "  Downloading pydub-0.25.1-py2.py3-none-any.whl.metadata (1.4 kB)\n",
            "Collecting python-multipart>=0.0.18 (from gradio)\n",
            "  Downloading python_multipart-0.0.20-py3-none-any.whl.metadata (1.8 kB)\n",
            "Requirement already satisfied: pyyaml<7.0,>=5.0 in /usr/local/lib/python3.11/dist-packages (from gradio) (6.0.2)\n",
            "Collecting ruff>=0.9.3 (from gradio)\n",
            "  Downloading ruff-0.9.6-py3-none-manylinux_2_17_x86_64.manylinux2014_x86_64.whl.metadata (25 kB)\n",
            "Collecting safehttpx<0.2.0,>=0.1.6 (from gradio)\n",
            "  Downloading safehttpx-0.1.6-py3-none-any.whl.metadata (4.2 kB)\n",
            "Collecting semantic-version~=2.0 (from gradio)\n",
            "  Downloading semantic_version-2.10.0-py2.py3-none-any.whl.metadata (9.7 kB)\n",
            "Collecting starlette<1.0,>=0.40.0 (from gradio)\n",
            "  Downloading starlette-0.45.3-py3-none-any.whl.metadata (6.3 kB)\n",
            "Collecting tomlkit<0.14.0,>=0.12.0 (from gradio)\n",
            "  Downloading tomlkit-0.13.2-py3-none-any.whl.metadata (2.7 kB)\n",
            "Requirement already satisfied: typer<1.0,>=0.12 in /usr/local/lib/python3.11/dist-packages (from gradio) (0.15.1)\n",
            "Requirement already satisfied: typing-extensions~=4.0 in /usr/local/lib/python3.11/dist-packages (from gradio) (4.12.2)\n",
            "Collecting uvicorn>=0.14.0 (from gradio)\n",
            "  Downloading uvicorn-0.34.0-py3-none-any.whl.metadata (6.5 kB)\n",
            "Requirement already satisfied: fsspec in /usr/local/lib/python3.11/dist-packages (from gradio-client==1.7.0->gradio) (2024.10.0)\n",
            "Requirement already satisfied: websockets<15.0,>=10.0 in /usr/local/lib/python3.11/dist-packages (from gradio-client==1.7.0->gradio) (14.2)\n",
            "Requirement already satisfied: idna>=2.8 in /usr/local/lib/python3.11/dist-packages (from anyio<5.0,>=3.0->gradio) (3.10)\n",
            "Requirement already satisfied: sniffio>=1.1 in /usr/local/lib/python3.11/dist-packages (from anyio<5.0,>=3.0->gradio) (1.3.1)\n",
            "Requirement already satisfied: certifi in /usr/local/lib/python3.11/dist-packages (from httpx>=0.24.1->gradio) (2025.1.31)\n",
            "Requirement already satisfied: httpcore==1.* in /usr/local/lib/python3.11/dist-packages (from httpx>=0.24.1->gradio) (1.0.7)\n",
            "Requirement already satisfied: h11<0.15,>=0.13 in /usr/local/lib/python3.11/dist-packages (from httpcore==1.*->httpx>=0.24.1->gradio) (0.14.0)\n",
            "Requirement already satisfied: filelock in /usr/local/lib/python3.11/dist-packages (from huggingface-hub>=0.28.1->gradio) (3.17.0)\n",
            "Requirement already satisfied: requests in /usr/local/lib/python3.11/dist-packages (from huggingface-hub>=0.28.1->gradio) (2.32.3)\n",
            "Requirement already satisfied: tqdm>=4.42.1 in /usr/local/lib/python3.11/dist-packages (from huggingface-hub>=0.28.1->gradio) (4.67.1)\n",
            "Requirement already satisfied: python-dateutil>=2.8.2 in /usr/local/lib/python3.11/dist-packages (from pandas<3.0,>=1.0->gradio) (2.8.2)\n",
            "Requirement already satisfied: pytz>=2020.1 in /usr/local/lib/python3.11/dist-packages (from pandas<3.0,>=1.0->gradio) (2025.1)\n",
            "Requirement already satisfied: tzdata>=2022.7 in /usr/local/lib/python3.11/dist-packages (from pandas<3.0,>=1.0->gradio) (2025.1)\n",
            "Requirement already satisfied: annotated-types>=0.6.0 in /usr/local/lib/python3.11/dist-packages (from pydantic>=2.0->gradio) (0.7.0)\n",
            "Requirement already satisfied: pydantic-core==2.27.2 in /usr/local/lib/python3.11/dist-packages (from pydantic>=2.0->gradio) (2.27.2)\n",
            "Requirement already satisfied: click>=8.0.0 in /usr/local/lib/python3.11/dist-packages (from typer<1.0,>=0.12->gradio) (8.1.8)\n",
            "Requirement already satisfied: shellingham>=1.3.0 in /usr/local/lib/python3.11/dist-packages (from typer<1.0,>=0.12->gradio) (1.5.4)\n",
            "Requirement already satisfied: rich>=10.11.0 in /usr/local/lib/python3.11/dist-packages (from typer<1.0,>=0.12->gradio) (13.9.4)\n",
            "Requirement already satisfied: six>=1.5 in /usr/local/lib/python3.11/dist-packages (from python-dateutil>=2.8.2->pandas<3.0,>=1.0->gradio) (1.17.0)\n",
            "Requirement already satisfied: markdown-it-py>=2.2.0 in /usr/local/lib/python3.11/dist-packages (from rich>=10.11.0->typer<1.0,>=0.12->gradio) (3.0.0)\n",
            "Requirement already satisfied: pygments<3.0.0,>=2.13.0 in /usr/local/lib/python3.11/dist-packages (from rich>=10.11.0->typer<1.0,>=0.12->gradio) (2.18.0)\n",
            "Requirement already satisfied: charset-normalizer<4,>=2 in /usr/local/lib/python3.11/dist-packages (from requests->huggingface-hub>=0.28.1->gradio) (3.4.1)\n",
            "Requirement already satisfied: urllib3<3,>=1.21.1 in /usr/local/lib/python3.11/dist-packages (from requests->huggingface-hub>=0.28.1->gradio) (2.3.0)\n",
            "Requirement already satisfied: mdurl~=0.1 in /usr/local/lib/python3.11/dist-packages (from markdown-it-py>=2.2.0->rich>=10.11.0->typer<1.0,>=0.12->gradio) (0.1.2)\n",
            "Downloading gradio-5.16.0-py3-none-any.whl (62.2 MB)\n",
            "\u001b[2K   \u001b[90m━━━━━━━━━━━━━━━━━━━━━━━━━━━━━━━━━━━━━━━━\u001b[0m \u001b[32m62.2/62.2 MB\u001b[0m \u001b[31m12.5 MB/s\u001b[0m eta \u001b[36m0:00:00\u001b[0m\n",
            "\u001b[?25hDownloading gradio_client-1.7.0-py3-none-any.whl (321 kB)\n",
            "\u001b[2K   \u001b[90m━━━━━━━━━━━━━━━━━━━━━━━━━━━━━━━━━━━━━━━━\u001b[0m \u001b[32m321.9/321.9 kB\u001b[0m \u001b[31m30.6 MB/s\u001b[0m eta \u001b[36m0:00:00\u001b[0m\n",
            "\u001b[?25hDownloading aiofiles-23.2.1-py3-none-any.whl (15 kB)\n",
            "Downloading fastapi-0.115.8-py3-none-any.whl (94 kB)\n",
            "\u001b[2K   \u001b[90m━━━━━━━━━━━━━━━━━━━━━━━━━━━━━━━━━━━━━━━━\u001b[0m \u001b[32m94.8/94.8 kB\u001b[0m \u001b[31m10.8 MB/s\u001b[0m eta \u001b[36m0:00:00\u001b[0m\n",
            "\u001b[?25hDownloading MarkupSafe-2.1.5-cp311-cp311-manylinux_2_17_x86_64.manylinux2014_x86_64.whl (28 kB)\n",
            "Downloading python_multipart-0.0.20-py3-none-any.whl (24 kB)\n",
            "Downloading ruff-0.9.6-py3-none-manylinux_2_17_x86_64.manylinux2014_x86_64.whl (12.5 MB)\n",
            "\u001b[2K   \u001b[90m━━━━━━━━━━━━━━━━━━━━━━━━━━━━━━━━━━━━━━━━\u001b[0m \u001b[32m12.5/12.5 MB\u001b[0m \u001b[31m119.3 MB/s\u001b[0m eta \u001b[36m0:00:00\u001b[0m\n",
            "\u001b[?25hDownloading safehttpx-0.1.6-py3-none-any.whl (8.7 kB)\n",
            "Downloading semantic_version-2.10.0-py2.py3-none-any.whl (15 kB)\n",
            "Downloading starlette-0.45.3-py3-none-any.whl (71 kB)\n",
            "\u001b[2K   \u001b[90m━━━━━━━━━━━━━━━━━━━━━━━━━━━━━━━━━━━━━━━━\u001b[0m \u001b[32m71.5/71.5 kB\u001b[0m \u001b[31m7.7 MB/s\u001b[0m eta \u001b[36m0:00:00\u001b[0m\n",
            "\u001b[?25hDownloading tomlkit-0.13.2-py3-none-any.whl (37 kB)\n",
            "Downloading uvicorn-0.34.0-py3-none-any.whl (62 kB)\n",
            "\u001b[2K   \u001b[90m━━━━━━━━━━━━━━━━━━━━━━━━━━━━━━━━━━━━━━━━\u001b[0m \u001b[32m62.3/62.3 kB\u001b[0m \u001b[31m6.3 MB/s\u001b[0m eta \u001b[36m0:00:00\u001b[0m\n",
            "\u001b[?25hDownloading ffmpy-0.5.0-py3-none-any.whl (6.0 kB)\n",
            "Downloading pydub-0.25.1-py2.py3-none-any.whl (32 kB)\n",
            "Installing collected packages: pydub, uvicorn, tomlkit, semantic-version, ruff, python-multipart, markupsafe, ffmpy, aiofiles, starlette, safehttpx, gradio-client, fastapi, gradio\n",
            "  Attempting uninstall: markupsafe\n",
            "    Found existing installation: MarkupSafe 3.0.2\n",
            "    Uninstalling MarkupSafe-3.0.2:\n",
            "      Successfully uninstalled MarkupSafe-3.0.2\n",
            "Successfully installed aiofiles-23.2.1 fastapi-0.115.8 ffmpy-0.5.0 gradio-5.16.0 gradio-client-1.7.0 markupsafe-2.1.5 pydub-0.25.1 python-multipart-0.0.20 ruff-0.9.6 safehttpx-0.1.6 semantic-version-2.10.0 starlette-0.45.3 tomlkit-0.13.2 uvicorn-0.34.0\n"
          ]
        }
      ]
    },
    {
      "cell_type": "code",
      "source": [
        "import gradio as gr\n",
        "import torch\n",
        "\n",
        "# Assuming your model, poet_to_idx, word_to_idx, idx_to_word are already defined\n",
        "\n",
        "def generate_poetry_gradio(poet_name, start_words):\n",
        "    # Ensure the model is in evaluation mode\n",
        "    model.eval()\n",
        "    device = torch.device(\"cuda\" if torch.cuda.is_available() else \"cpu\")\n",
        "\n",
        "    if poet_name not in poet_to_idx:\n",
        "        return \"Poet not found in dataset.\"\n",
        "\n",
        "    poet_idx = torch.tensor([poet_to_idx[poet_name]], device=device)\n",
        "\n",
        "    input_indices = [word_to_idx[word] for word in start_words.split() if word in word_to_idx]\n",
        "    if not input_indices:\n",
        "        return \"No valid words found in vocabulary.\"\n",
        "\n",
        "    input_tensor = torch.tensor(input_indices, dtype=torch.long, device=device).unsqueeze(0)\n",
        "\n",
        "    generated_words = start_words.split()\n",
        "\n",
        "    for _ in range(50):  # max_length\n",
        "        with torch.no_grad():\n",
        "            output = model(input_tensor, poet_idx)\n",
        "            predictions = output[:, -1, :]\n",
        "            next_word_idx = torch.argmax(predictions, dim=1).item()\n",
        "\n",
        "            if next_word_idx in idx_to_word:\n",
        "                next_word = idx_to_word[next_word_idx]\n",
        "                generated_words.append(next_word)\n",
        "                input_tensor = torch.cat((input_tensor, torch.tensor([[next_word_idx]], device=device)), dim=1)\n",
        "            else:\n",
        "                break\n",
        "\n",
        "    return \" \".join(generated_words)\n",
        "\n",
        "# Define Gradio interface\n",
        "iface = gr.Interface(fn=generate_poetry_gradio,\n",
        "                     inputs=[\"text\", \"text\"],\n",
        "                     outputs=\"text\",\n",
        "                     live=True,\n",
        "                     title=\"Poetry Generator\",\n",
        "                     description=\"Generate Roman Urdu poetry based on the poet's name and starting words.\")\n",
        "\n",
        "# Launch the interface\n",
        "iface.launch()\n"
      ],
      "metadata": {
        "id": "dkOBDyScxkd_",
        "outputId": "f15c8b8e-b2bc-47b1-810d-3af943d921dc",
        "colab": {
          "base_uri": "https://localhost:8080/",
          "height": 646
        }
      },
      "execution_count": null,
      "outputs": [
        {
          "output_type": "stream",
          "name": "stdout",
          "text": [
            "Running Gradio in a Colab notebook requires sharing enabled. Automatically setting `share=True` (you can turn this off by setting `share=False` in `launch()` explicitly).\n",
            "\n",
            "Colab notebook detected. To show errors in colab notebook, set debug=True in launch()\n",
            "* Running on public URL: https://fe804e2858d038fef9.gradio.live\n",
            "\n",
            "This share link expires in 72 hours. For free permanent hosting and GPU upgrades, run `gradio deploy` from the terminal in the working directory to deploy to Hugging Face Spaces (https://huggingface.co/spaces)\n"
          ]
        },
        {
          "output_type": "display_data",
          "data": {
            "text/plain": [
              "<IPython.core.display.HTML object>"
            ],
            "text/html": [
              "<div><iframe src=\"https://fe804e2858d038fef9.gradio.live\" width=\"100%\" height=\"500\" allow=\"autoplay; camera; microphone; clipboard-read; clipboard-write;\" frameborder=\"0\" allowfullscreen></iframe></div>"
            ]
          },
          "metadata": {}
        },
        {
          "output_type": "execute_result",
          "data": {
            "text/plain": []
          },
          "metadata": {},
          "execution_count": 16
        }
      ]
    },
    {
      "cell_type": "code",
      "source": [],
      "metadata": {
        "id": "tRHrsxAAxzZo"
      },
      "execution_count": null,
      "outputs": []
    }
  ],
  "metadata": {
    "colab": {
      "provenance": [],
      "gpuType": "T4",
      "include_colab_link": true
    },
    "kernelspec": {
      "display_name": "Python 3",
      "name": "python3"
    },
    "accelerator": "GPU"
  },
  "nbformat": 4,
  "nbformat_minor": 0
}